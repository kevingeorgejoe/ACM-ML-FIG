{
 "cells": [
  {
   "cell_type": "markdown",
   "metadata": {},
   "source": [
    "![title](../data/logo.png)\n",
    "\n",
    "# <center>ACM NITK\n",
    "## <center> Assignment 0: Python\n",
    "\n",
    "**Author:** Kevin George Joe (@kevingeorgejoe)"
   ]
  },
  {
   "cell_type": "code",
   "execution_count": null,
   "metadata": {},
   "outputs": [],
   "source": [
    "If you get bugs"
   ]
  },
  {
   "cell_type": "code",
   "execution_count": null,
   "metadata": {},
   "outputs": [],
   "source": [
    "Summary"
   ]
  },
  {
   "cell_type": "code",
   "execution_count": null,
   "metadata": {},
   "outputs": [],
   "source": [
    "Jupyter tricks\n",
    "    execute cells\n",
    "    usage and functionality\n",
    "    above and below"
   ]
  },
  {
   "cell_type": "markdown",
   "metadata": {},
   "source": [
    "Don't delete code comment it out. You can always delete it later!"
   ]
  },
  {
   "cell_type": "markdown",
   "metadata": {},
   "source": [
    "**Question #1: Write a program to print \"Hello, World!\"**"
   ]
  },
  {
   "cell_type": "code",
   "execution_count": null,
   "metadata": {},
   "outputs": [],
   "source": [
    "# Your code here"
   ]
  },
  {
   "cell_type": "markdown",
   "metadata": {},
   "source": [
    "**Question #2: An amusement park that allows only people with a height larger than 60 inches. Use**`if` **and** `else` **statements to make a piece of code that accepts >= 60 inches** (`return \"Yes\"`) **or rejects** (`return \"No\"`) **when checking the height of a person.**"
   ]
  },
  {
   "cell_type": "code",
   "execution_count": null,
   "metadata": {},
   "outputs": [],
   "source": [
    "def tall_enough(height):\n",
    "    # Your code here"
   ]
  },
  {
   "cell_type": "markdown",
   "metadata": {},
   "source": [
    "Check if your function satisifies the following test cases:"
   ]
  },
  {
   "cell_type": "code",
   "execution_count": null,
   "metadata": {},
   "outputs": [],
   "source": [
    "print(\"tall_enough(42):\", tall_enough(42))\n",
    "print(\"tall_enough(72):\", tall_enough(72))\n",
    "print(\"tall_enough(12):\", tall_enough(12))"
   ]
  },
  {
   "cell_type": "markdown",
   "metadata": {},
   "source": [
    "**Question #2: Print first $n$ natural numbers and display whether odd or even. (Including $n$)**\n",
    "\n",
    "*Hint:* Make use of `range()` and `if` and `else` statements\n",
    "\n",
    "*Resource:* https://www.w3schools.com/python/python_for_loops.asp\n",
    "\n",
    "Your output for `first_n_odd_even(10)` should be of the format :\n",
    "    ![title](../data/a0/format1.png)\n",
    "    \n",
    "    "
   ]
  },
  {
   "cell_type": "code",
   "execution_count": 27,
   "metadata": {},
   "outputs": [],
   "source": [
    "def first_n_odd_even(n):\n",
    "    for i in range(n):\n",
    "        if i % 2 == 0:\n",
    "            print(i+1, \"odd\")\n",
    "        else:\n",
    "            print(i+1, \"even\")"
   ]
  },
  {
   "cell_type": "code",
   "execution_count": null,
   "metadata": {},
   "outputs": [],
   "source": [
    "def first_n_odd_even(n):\n",
    "    # Your code here  "
   ]
  },
  {
   "cell_type": "markdown",
   "metadata": {},
   "source": [
    "Check if your function works correctly for the following function:"
   ]
  },
  {
   "cell_type": "code",
   "execution_count": 28,
   "metadata": {},
   "outputs": [
    {
     "name": "stdout",
     "output_type": "stream",
     "text": [
      "1 odd\n",
      "2 even\n",
      "3 odd\n",
      "4 even\n",
      "5 odd\n",
      "6 even\n",
      "7 odd\n",
      "8 even\n",
      "9 odd\n",
      "10 even\n"
     ]
    }
   ],
   "source": [
    "first_n_odd_even(10)"
   ]
  },
  {
   "cell_type": "markdown",
   "metadata": {},
   "source": [
    "**Question #3: Print each characher of the following string** `str`. **Each character should be on a new line.**\n",
    "\n",
    "*Hint:* use a for loop\n",
    "\n",
    "*Resource:* https://www.w3schools.com/python/python_for_loops.asp"
   ]
  },
  {
   "cell_type": "code",
   "execution_count": 29,
   "metadata": {},
   "outputs": [
    {
     "name": "stdout",
     "output_type": "stream",
     "text": [
      "J\n",
      "a\n",
      "c\n",
      "k\n",
      ",\n",
      " \n",
      "I\n",
      "'\n",
      "l\n",
      "l\n",
      " \n",
      "n\n",
      "e\n",
      "v\n",
      "e\n",
      "r\n",
      " \n",
      "l\n",
      "e\n",
      "t\n",
      " \n",
      "g\n",
      "o\n",
      "!\n"
     ]
    }
   ],
   "source": [
    "str = \"Jack, I'll never let go!\"\n",
    "\n",
    "# Your code here\n",
    "\n",
    "for char in str:\n",
    "    print(char)"
   ]
  },
  {
   "cell_type": "markdown",
   "metadata": {},
   "source": [
    "**Question #4: Modify your code from question 3 and print index of each character in the string.**\n",
    "\n",
    "*Hint:* use enumerate()\n",
    "\n",
    "*Resource:* https://stackoverflow.com/questions/22171558/what-does-enumerate-mean"
   ]
  },
  {
   "cell_type": "code",
   "execution_count": 32,
   "metadata": {
    "scrolled": true
   },
   "outputs": [
    {
     "name": "stdout",
     "output_type": "stream",
     "text": [
      "0 J\n",
      "1 a\n",
      "2 c\n",
      "3 k\n",
      "4 ,\n",
      "5  \n",
      "6 I\n",
      "7 '\n",
      "8 l\n",
      "9 l\n",
      "10  \n",
      "11 n\n",
      "12 e\n",
      "13 v\n",
      "14 e\n",
      "15 r\n",
      "16  \n",
      "17 l\n",
      "18 e\n",
      "19 t\n",
      "20  \n",
      "21 g\n",
      "22 o\n",
      "23 !\n"
     ]
    }
   ],
   "source": [
    "str = \"Jack, I'll never let go!\"\n",
    "\n",
    "# Your code here\n",
    "\n",
    "for i, char in enumerate(str):\n",
    "    print(i, char)"
   ]
  },
  {
   "cell_type": "markdown",
   "metadata": {},
   "source": [
    "**Question #4: Perform the following sub-questions sequentially.**\n",
    "\n",
    "- Initialize an empty list\n",
    "\n",
    "- Append \"start\", 2, 4.0, \"five\"\n",
    "\n",
    "- Insert 3 in the third index location.\n",
    "\n",
    "- Print a slice that displays from \"start\" to 4.0\n",
    "\n",
    "- Delete the last element of the list.\n",
    "\n",
    "- Print each element of the list in a newline\n",
    "\n",
    "*Resource:* https://www.w3schools.com/python/python_for_loops.asp\n",
    "\n"
   ]
  },
  {
   "cell_type": "markdown",
   "metadata": {},
   "source": [
    "Write a program to make a sigmoid function. The sigmoid function is as follows:\n",
    "    ![title](../data/a0/sigmoid.svg)\n",
    "    \n",
    "*Hint:* import the math module and use the math.exp() function\n",
    "\n",
    "*Usage:* https://www.tutorialspoint.com/python3/number_exp.htm"
   ]
  },
  {
   "cell_type": "code",
   "execution_count": 33,
   "metadata": {},
   "outputs": [
    {
     "ename": "SyntaxError",
     "evalue": "invalid syntax (<ipython-input-33-b253ecf545da>, line 5)",
     "output_type": "error",
     "traceback": [
      "\u001b[0;36m  File \u001b[0;32m\"<ipython-input-33-b253ecf545da>\"\u001b[0;36m, line \u001b[0;32m5\u001b[0m\n\u001b[0;31m    z = # Your code here\u001b[0m\n\u001b[0m                        ^\u001b[0m\n\u001b[0;31mSyntaxError\u001b[0m\u001b[0;31m:\u001b[0m invalid syntax\n"
     ]
    }
   ],
   "source": [
    "# import the math module here\n",
    "\n",
    "def sigmoid(x):\n",
    "    \n",
    "    z = # Your code here\n",
    "\n",
    "    return z   \n",
    "    "
   ]
  },
  {
   "cell_type": "code",
   "execution_count": 9,
   "metadata": {},
   "outputs": [],
   "source": [
    "import math\n",
    "\n",
    "def sigmoid(x):\n",
    "    \n",
    "    z = 1/(1 + math.exp(x))\n",
    "\n",
    "    return z"
   ]
  },
  {
   "cell_type": "markdown",
   "metadata": {},
   "source": [
    "Check if your code works correctly on the following test cases:"
   ]
  },
  {
   "cell_type": "code",
   "execution_count": 20,
   "metadata": {},
   "outputs": [
    {
     "name": "stdout",
     "output_type": "stream",
     "text": [
      "sigmoid(-1000):  0.999997739675702\n",
      "sigmoid(-2):  0.8807970779778823\n",
      "sigmoid(0):  0.5\n",
      "sigmoid(3):  0.04742587317756678\n",
      "sigmoid(100):  3.7200759760208356e-44\n"
     ]
    }
   ],
   "source": [
    "print(\"sigmoid(-1000): \", sigmoid(-13))\n",
    "print(\"sigmoid(-2): \", sigmoid(-2))\n",
    "print(\"sigmoid(0): \", sigmoid(0))\n",
    "print(\"sigmoid(3): \", sigmoid(3))\n",
    "print(\"sigmoid(100): \", sigmoid(100))"
   ]
  },
  {
   "cell_type": "markdown",
   "metadata": {},
   "source": [
    "# TODO dictionary question"
   ]
  },
  {
   "cell_type": "code",
   "execution_count": null,
   "metadata": {},
   "outputs": [],
   "source": []
  }
 ],
 "metadata": {
  "kernelspec": {
   "display_name": "Python 3",
   "language": "python",
   "name": "python3"
  },
  "language_info": {
   "codemirror_mode": {
    "name": "ipython",
    "version": 3
   },
   "file_extension": ".py",
   "mimetype": "text/x-python",
   "name": "python",
   "nbconvert_exporter": "python",
   "pygments_lexer": "ipython3",
   "version": "3.7.0"
  }
 },
 "nbformat": 4,
 "nbformat_minor": 2
}
