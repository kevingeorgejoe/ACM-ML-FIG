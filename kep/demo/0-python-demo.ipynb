{
 "cells": [
  {
   "cell_type": "markdown",
   "metadata": {},
   "source": [
    "# Python Crash Course"
   ]
  },
  {
   "cell_type": "markdown",
   "metadata": {},
   "source": [
    "`int` can be thought of as short for integers\n",
    "*example:* $1, 2, 3, 4, -5, -99998, 177098$ $etc.$\n",
    "\n",
    "`float` can be thought of real numbers but always have a decimal\n",
    "*example:* $ 1.34565, 2.0, 4.9, -.5, -99998.$ $etc.$"
   ]
  },
  {
   "cell_type": "code",
   "execution_count": null,
   "metadata": {},
   "outputs": [],
   "source": [
    "a = 2\n",
    "print(a, type(a))"
   ]
  },
  {
   "cell_type": "code",
   "execution_count": 5,
   "metadata": {},
   "outputs": [
    {
     "name": "stdout",
     "output_type": "stream",
     "text": [
      "4.2 <class 'float'>\n"
     ]
    }
   ],
   "source": [
    "a = 4.2\n",
    "print(a, type(a))"
   ]
  },
  {
   "cell_type": "markdown",
   "metadata": {},
   "source": [
    "### strings\n",
    "\n",
    "`str`  (aka string) in python is a charachter or multiple charachters. Think of characters as the letter, number, symbol combo that you can type out with your keyboard."
   ]
  },
  {
   "cell_type": "code",
   "execution_count": 21,
   "metadata": {},
   "outputs": [
    {
     "name": "stdout",
     "output_type": "stream",
     "text": [
      "<class 'str'> hey there\n",
      "<class 'str'> hi\n",
      "<class 'str'> i\n",
      "<class 'str'> d\n"
     ]
    }
   ],
   "source": [
    "a = \"hey there\"\n",
    "print(type(a), a)\n",
    "\n",
    "a = \"hi\"\n",
    "print(type(a), a)\n",
    "\n",
    "a = 'i'\n",
    "print(type(a), a)\n",
    "\n",
    "a = \"d\"\n",
    "print(type(a), a)"
   ]
  },
  {
   "cell_type": "code",
   "execution_count": 10,
   "metadata": {},
   "outputs": [
    {
     "ename": "TypeError",
     "evalue": "can only concatenate str (not \"int\") to str",
     "output_type": "error",
     "traceback": [
      "\u001b[0;31m---------------------------------------------------------------------------\u001b[0m",
      "\u001b[0;31mTypeError\u001b[0m                                 Traceback (most recent call last)",
      "\u001b[0;32m<ipython-input-10-69f385c20f7d>\u001b[0m in \u001b[0;36m<module>\u001b[0;34m()\u001b[0m\n\u001b[1;32m      1\u001b[0m \u001b[0mb\u001b[0m \u001b[0;34m=\u001b[0m \u001b[0;36m1\u001b[0m\u001b[0;34m\u001b[0m\u001b[0m\n\u001b[1;32m      2\u001b[0m \u001b[0;34m\u001b[0m\u001b[0m\n\u001b[0;32m----> 3\u001b[0;31m \u001b[0msum\u001b[0m \u001b[0;34m=\u001b[0m \u001b[0ma\u001b[0m \u001b[0;34m+\u001b[0m \u001b[0mb\u001b[0m\u001b[0;34m\u001b[0m\u001b[0m\n\u001b[0m\u001b[1;32m      4\u001b[0m \u001b[0mprint\u001b[0m\u001b[0;34m(\u001b[0m\u001b[0msum\u001b[0m\u001b[0;34m,\u001b[0m \u001b[0mtype\u001b[0m\u001b[0;34m(\u001b[0m\u001b[0msum\u001b[0m\u001b[0;34m)\u001b[0m\u001b[0;34m)\u001b[0m\u001b[0;34m\u001b[0m\u001b[0m\n",
      "\u001b[0;31mTypeError\u001b[0m: can only concatenate str (not \"int\") to str"
     ]
    }
   ],
   "source": [
    "b = 1\n",
    "\n",
    "sum = a + b\n",
    "print(sum, type(sum))"
   ]
  },
  {
   "cell_type": "markdown",
   "metadata": {},
   "source": [
    "Your first error! \n",
    "\n",
    "Now a good rule of thumb when you get errors is to **try deciphering the last line of the error message** and figure what went wrong or use the all powerful Google! Here's the [first link](https://stackoverflow.com/questions/51252580/new-to-coding-python-error-typeerror-can-only-concatenate-str-not-int-t/51252705). \n",
    "\n",
    "Else try the first line of the error message."
   ]
  },
  {
   "cell_type": "markdown",
   "metadata": {},
   "source": [
    "Here's a style of writing code in jupyter notebook. When you write code in cells. Make sure you do everything in your power to keep your code sequential. An example to make that more concrete..."
   ]
  },
  {
   "cell_type": "code",
   "execution_count": 13,
   "metadata": {},
   "outputs": [
    {
     "name": "stdout",
     "output_type": "stream",
     "text": [
      "I'm down here. Help :(\n"
     ]
    }
   ],
   "source": [
    "print(z)"
   ]
  },
  {
   "cell_type": "code",
   "execution_count": 12,
   "metadata": {},
   "outputs": [],
   "source": [
    "z = \"I'm down here. Help :(\""
   ]
  },
  {
   "cell_type": "markdown",
   "metadata": {},
   "source": [
    "Python isn't  picky whether you use `\" \"` or `' '` both work just as fine. Not in other languages though!"
   ]
  },
  {
   "cell_type": "code",
   "execution_count": 2,
   "metadata": {},
   "outputs": [
    {
     "name": "stdout",
     "output_type": "stream",
     "text": [
      "heythere\n"
     ]
    }
   ],
   "source": [
    "a = \"hey\" + 'there'\n",
    "print(a, type(a))"
   ]
  },
  {
   "cell_type": "markdown",
   "metadata": {},
   "source": [
    "`str.endswith()` is function that you can perform on a string."
   ]
  },
  {
   "cell_type": "code",
   "execution_count": 30,
   "metadata": {},
   "outputs": [
    {
     "name": "stdout",
     "output_type": "stream",
     "text": [
      "True\n",
      "True\n",
      "False\n"
     ]
    }
   ],
   "source": [
    "str1 = \"Papa Kevin\"\n",
    "str2 = \"Mama Kevin\"\n",
    "str3 = \"Kevin 11\"\n",
    "str4 = \"7-11\"\n",
    "\n",
    "print(str1.endswith(\"Kevin\"))\n",
    "print(str2.endswith(\"in\"))\n",
    "print(str2.endswith(\"  11\"))"
   ]
  },
  {
   "cell_type": "markdown",
   "metadata": {},
   "source": [
    "Hol' up! What is this output `True` and `False`? Try `type()` on the output."
   ]
  },
  {
   "cell_type": "code",
   "execution_count": 33,
   "metadata": {},
   "outputs": [
    {
     "data": {
      "text/plain": [
       "bool"
      ]
     },
     "execution_count": 33,
     "metadata": {},
     "output_type": "execute_result"
    }
   ],
   "source": [
    "type(str1.endswith(\"Kevin\"))"
   ]
  },
  {
   "cell_type": "markdown",
   "metadata": {},
   "source": [
    "Try `shift+tab` on bool for more info!"
   ]
  },
  {
   "cell_type": "code",
   "execution_count": null,
   "metadata": {},
   "outputs": [],
   "source": [
    "bool"
   ]
  },
  {
   "cell_type": "markdown",
   "metadata": {},
   "source": [
    "You can think of bool of saying True or False. Kind of like 1 for True and 0 for False. So you only need 1 binary bit to store the answer and is more space efficient. Now `int` can be 32-bit or 64-bit binary number. "
   ]
  },
  {
   "cell_type": "markdown",
   "metadata": {},
   "source": [
    "### Lists\n",
    "\n",
    "List can hold pretty much anything. They're far more versatile than arrays (if you know what they are...) But if you don't that's cool too! \n",
    "\n",
    "Think of it as a \"list\" that hold different things. And, indexing starts at zero. That is zeroth, first, second, third element and so on..."
   ]
  },
  {
   "cell_type": "code",
   "execution_count": 17,
   "metadata": {},
   "outputs": [
    {
     "name": "stdout",
     "output_type": "stream",
     "text": [
      "list1: []\n",
      "list2: []\n"
     ]
    }
   ],
   "source": [
    "list1 = list()\n",
    "list2 = []\n",
    "\n",
    "print(\"list1:\", list1)\n",
    "print(\"list2:\", list2)"
   ]
  },
  {
   "cell_type": "code",
   "execution_count": 27,
   "metadata": {},
   "outputs": [
    {
     "name": "stdout",
     "output_type": "stream",
     "text": [
      "['a', 'b', 'c']\n",
      "a\n",
      "c\n"
     ]
    }
   ],
   "source": [
    "list1.append(\"a\")\n",
    "list1.append(\"b\")\n",
    "list1.append(\"c\")\n",
    "\n",
    "# printing entire list\n",
    "print(list1)\n",
    "\n",
    "# printing the zeroth element of the list\n",
    "print(list1[0])\n",
    "\n",
    "# printing the second element of the list\n",
    "print(list1[2])"
   ]
  },
  {
   "cell_type": "markdown",
   "metadata": {},
   "source": [
    "What happens if you try to print `list1[3]`? "
   ]
  },
  {
   "cell_type": "code",
   "execution_count": 28,
   "metadata": {},
   "outputs": [
    {
     "ename": "IndexError",
     "evalue": "list index out of range",
     "output_type": "error",
     "traceback": [
      "\u001b[0;31m---------------------------------------------------------------------------\u001b[0m",
      "\u001b[0;31mIndexError\u001b[0m                                Traceback (most recent call last)",
      "\u001b[0;32m<ipython-input-28-2ff69b0ff8ea>\u001b[0m in \u001b[0;36m<module>\u001b[0;34m()\u001b[0m\n\u001b[0;32m----> 1\u001b[0;31m \u001b[0mprint\u001b[0m\u001b[0;34m(\u001b[0m\u001b[0mlist1\u001b[0m\u001b[0;34m[\u001b[0m\u001b[0;36m3\u001b[0m\u001b[0;34m]\u001b[0m\u001b[0;34m)\u001b[0m\u001b[0;34m\u001b[0m\u001b[0m\n\u001b[0m",
      "\u001b[0;31mIndexError\u001b[0m: list index out of range"
     ]
    }
   ],
   "source": [
    "print(list1[3])"
   ]
  },
  {
   "cell_type": "markdown",
   "metadata": {},
   "source": [
    "There is no 3rd element in `list1`. Hence there `IndexError`."
   ]
  },
  {
   "cell_type": "markdown",
   "metadata": {},
   "source": [
    "### if elif else\n"
   ]
  },
  {
   "cell_type": "code",
   "execution_count": 41,
   "metadata": {},
   "outputs": [
    {
     "name": "stdout",
     "output_type": "stream",
     "text": [
      "Enjoy :)\n"
     ]
    }
   ],
   "source": [
    "cholesterol = \"hi\"\n",
    "# cholesterol = \"med\"\n",
    "# cholesterol = \"low\"\n",
    "# cholesterol = \"over level 9000\"\n",
    "\n",
    "if (cholesterol == \"hi\"):\n",
    "    print(\"Get help, now!\")\n",
    "elif (cholesterol == \"med\"):\n",
    "    print(\"Take it easy!\")\n",
    "else:\n",
    "    print(\"Enjoy :)\")"
   ]
  },
  {
   "cell_type": "code",
   "execution_count": 46,
   "metadata": {},
   "outputs": [
    {
     "name": "stdout",
     "output_type": "stream",
     "text": [
      "Disliked it\n"
     ]
    }
   ],
   "source": [
    "movieRating = 3\n",
    "# movieRating = 9.5\n",
    "# movieRating = 7\n",
    "# movieRating = 5.4\n",
    "# movieRating = 9999\n",
    "# movieRating = -2\n",
    "\n",
    "if (movieRating > 8 and movieRating >=10):\n",
    "    print(\"Loved\")\n",
    "elif (movieRating > 6):\n",
    "    print(\"Liked it\")\n",
    "elif (movieRating > 4):\n",
    "    print(\"Ok\")\n",
    "elif (movieRating > 2):\n",
    "    print(\"Disliked it\")\n",
    "elif (movieRating > 0):\n",
    "    print(\"Hated it\")\n",
    "else:\n",
    "    print(\"Invalid movieRating\")\n",
    "    "
   ]
  },
  {
   "cell_type": "code",
   "execution_count": 36,
   "metadata": {},
   "outputs": [
    {
     "name": "stdout",
     "output_type": "stream",
     "text": [
      "Sunny\n"
     ]
    }
   ],
   "source": [
    "sunOut = True\n",
    "clouds = False\n",
    "rain = False\n",
    "snow = False\n",
    "\n",
    "if (sunOut):\n",
    "    print(\"Sunny\")\n",
    "elif (clouds):\n",
    "    if (rain):\n",
    "        print(\"Rainy\")\n",
    "        print(\"Take an Umbrella!\")\n",
    "    else:\n",
    "        print(\"Cloudy\")\n",
    "elif (snow):\n",
    "    print(\"Snowing\")\n",
    "    print(\"Wear a jacket\")\n",
    "else:\n",
    "    print(\"It's cloudy with a chance of meatballs\")"
   ]
  },
  {
   "cell_type": "code",
   "execution_count": 38,
   "metadata": {},
   "outputs": [
    {
     "name": "stdout",
     "output_type": "stream",
     "text": [
      "Rainy\n",
      "Take an Umbrella!\n"
     ]
    }
   ],
   "source": [
    "sunOut = False\n",
    "clouds = True\n",
    "rain = True\n",
    "snow = False\n",
    "\n",
    "if (sunOut):\n",
    "    print(\"Sunny\")\n",
    "elif (clouds):\n",
    "    if (not rain):\n",
    "        print(\"Cloudy\")\n",
    "    else:\n",
    "        print(\"Rainy\")\n",
    "        print(\"Take an Umbrella!\")        \n",
    "elif (snow):\n",
    "    print(\"Snowing\")\n",
    "    print(\"Wear a jacket\")\n",
    "else:\n",
    "    print(\"It's cloudy with a chance of meatballs\")"
   ]
  },
  {
   "cell_type": "code",
   "execution_count": 40,
   "metadata": {},
   "outputs": [
    {
     "name": "stdout",
     "output_type": "stream",
     "text": [
      "It's cloudy with a chance of meatballs!\n"
     ]
    }
   ],
   "source": [
    "sunOut = False\n",
    "clouds = False\n",
    "rain = False\n",
    "snow = False\n",
    "\n",
    "if (sunOut):\n",
    "    print(\"Sunny\")\n",
    "elif (clouds):\n",
    "    if (not rain):\n",
    "        print(\"Cloudy\")\n",
    "    else:\n",
    "        print(\"Rainy\")\n",
    "        print(\"Take an Umbrella!\")        \n",
    "elif (snow):\n",
    "    print(\"Snowing\")\n",
    "    print(\"Wear a jacket\")\n",
    "else:\n",
    "    print(\"It's cloudy with a chance of meatballs!\")"
   ]
  },
  {
   "cell_type": "markdown",
   "metadata": {},
   "source": [
    "### def function():\n",
    "\n",
    "You can see how annoying it can get to copy-paste the same lines of code over and over again. To prevent all that copy-pasting and increasing the size of code in your file or in this case \"cell\". We use functions!"
   ]
  },
  {
   "cell_type": "code",
   "execution_count": 47,
   "metadata": {},
   "outputs": [],
   "source": [
    "def predictWeather(sunOut, clouds, rain, snow):\n",
    "    if (sunOut):\n",
    "        print(\"Sunny\")\n",
    "    elif (clouds):\n",
    "        if (not rain):\n",
    "            print(\"Cloudy\")\n",
    "        else:\n",
    "            print(\"Rainy\")\n",
    "            print(\"Take an Umbrella!\")        \n",
    "    elif (snow):\n",
    "        print(\"Snowing\")\n",
    "        print(\"Wear a jacket\")\n",
    "    else:\n",
    "        print(\"It's cloudy with a chance of meatballs!\")\n",
    "    "
   ]
  },
  {
   "cell_type": "markdown",
   "metadata": {},
   "source": [
    "Here are multiple ways to call the same fucntion. You can m some ways are more convenient than others. "
   ]
  },
  {
   "cell_type": "code",
   "execution_count": 49,
   "metadata": {},
   "outputs": [
    {
     "name": "stdout",
     "output_type": "stream",
     "text": [
      "Sunny\n"
     ]
    }
   ],
   "source": [
    "sunOut = True\n",
    "clouds = False\n",
    "rain = False\n",
    "snow = False\n",
    "\n",
    "predictWeather(sunOut, clouds, rain, snow)"
   ]
  },
  {
   "cell_type": "code",
   "execution_count": 50,
   "metadata": {},
   "outputs": [
    {
     "name": "stdout",
     "output_type": "stream",
     "text": [
      "Sunny\n"
     ]
    }
   ],
   "source": [
    "predictWeather(True, False, False, False)"
   ]
  },
  {
   "cell_type": "code",
   "execution_count": 51,
   "metadata": {},
   "outputs": [
    {
     "name": "stdout",
     "output_type": "stream",
     "text": [
      "Sunny\n"
     ]
    }
   ],
   "source": [
    "predictWeather(sunOut=True, clouds=False, rain=False, snow=False)"
   ]
  },
  {
   "cell_type": "code",
   "execution_count": 52,
   "metadata": {},
   "outputs": [
    {
     "name": "stdout",
     "output_type": "stream",
     "text": [
      "Sunny\n"
     ]
    }
   ],
   "source": [
    "predictWeather(clouds=False, rain=False, snow=False, sunOut=True)"
   ]
  },
  {
   "cell_type": "code",
   "execution_count": 53,
   "metadata": {},
   "outputs": [],
   "source": [
    "def predictWeather(sunOut, clouds, rain, snow=False):\n",
    "    if (sunOut):\n",
    "        print(\"Sunny\")\n",
    "    elif (clouds):\n",
    "        if (not rain):\n",
    "            print(\"Cloudy\")\n",
    "        else:\n",
    "            print(\"Rainy\")\n",
    "            print(\"Take an Umbrella!\")        \n",
    "    elif (snow):\n",
    "        print(\"Snowing\")\n",
    "        print(\"Wear a jacket\")\n",
    "    else:\n",
    "        print(\"It's cloudy with a chance of meatballs!\")"
   ]
  },
  {
   "cell_type": "code",
   "execution_count": 54,
   "metadata": {},
   "outputs": [
    {
     "name": "stdout",
     "output_type": "stream",
     "text": [
      "It's cloudy with a chance of meatballs!\n"
     ]
    }
   ],
   "source": [
    "predictWeather(False, False, False)"
   ]
  },
  {
   "cell_type": "code",
   "execution_count": 61,
   "metadata": {},
   "outputs": [],
   "source": [
    "def predictWeather(sunOut, clouds, rain, snow=True):\n",
    "    if (sunOut):\n",
    "        print(\"Sunny\")\n",
    "    elif (clouds):\n",
    "        if (not rain):\n",
    "            print(\"Cloudy\")\n",
    "        else:\n",
    "            print(\"Rainy\")\n",
    "            print(\"Take an Umbrella!\")        \n",
    "    elif (snow):\n",
    "        print(\"Snowing\")\n",
    "        print(\"Wear a jacket\")\n",
    "    else:\n",
    "        print(\"It's cloudy with a chance of meatballs!\")"
   ]
  },
  {
   "cell_type": "code",
   "execution_count": 62,
   "metadata": {},
   "outputs": [
    {
     "name": "stdout",
     "output_type": "stream",
     "text": [
      "Snowing\n",
      "Wear a jacket\n"
     ]
    }
   ],
   "source": [
    "predictWeather(False, False, False)"
   ]
  },
  {
   "cell_type": "code",
   "execution_count": 60,
   "metadata": {},
   "outputs": [
    {
     "ename": "SyntaxError",
     "evalue": "non-default argument follows default argument (<ipython-input-60-bb5fc7ffb3e2>, line 1)",
     "output_type": "error",
     "traceback": [
      "\u001b[0;36m  File \u001b[0;32m\"<ipython-input-60-bb5fc7ffb3e2>\"\u001b[0;36m, line \u001b[0;32m1\u001b[0m\n\u001b[0;31m    def predictWeather(sunOut, clouds=True, rain, snow=True):\u001b[0m\n\u001b[0m                      ^\u001b[0m\n\u001b[0;31mSyntaxError\u001b[0m\u001b[0;31m:\u001b[0m non-default argument follows default argument\n"
     ]
    }
   ],
   "source": [
    "def predictWeather(sunOut, clouds=True, rain, snow=True):\n",
    "    if (sunOut):\n",
    "        print(\"Sunny\")\n",
    "    elif (clouds):\n",
    "        if (not rain):\n",
    "            print(\"Cloudy\")\n",
    "        else:\n",
    "            print(\"Rainy\")\n",
    "            print(\"Take an Umbrella!\")        \n",
    "    elif (snow):\n",
    "        print(\"Snowing\")\n",
    "        print(\"Wear a jacket\")\n",
    "    else:\n",
    "        print(\"It's cloudy with a chance of meatballs!\")"
   ]
  },
  {
   "cell_type": "markdown",
   "metadata": {},
   "source": [
    "Did you notice that `print()` is also a function? You can spot a function by `()`. \n",
    "\n",
    "Let's say you have to `print(\"ACM\")` 5 times. You could copy-paste that. How about 10? Still do-able.\n",
    "\n",
    "What about 100? You could count your number of pastes? **What about a 1000** `print(\"ACM\")`**?** You'd definitely loose track of the count and loose your mind in the process!\n",
    "\n",
    "And copy pasting code over and over and over and over and over again looks ugly. Get my flow? :P"
   ]
  },
  {
   "cell_type": "code",
   "execution_count": 65,
   "metadata": {},
   "outputs": [
    {
     "name": "stdout",
     "output_type": "stream",
     "text": [
      "ACM\n",
      "ACM\n",
      "ACM\n",
      "ACM\n",
      "ACM\n",
      "ACM\n",
      "ACM\n"
     ]
    }
   ],
   "source": [
    "print(\"ACM\")\n",
    "print(\"ACM\")\n",
    "print(\"ACM\")\n",
    "print(\"ACM\")\n",
    "print(\"ACM\")\n",
    "print(\"ACM\")\n",
    "print(\"ACM\")"
   ]
  },
  {
   "cell_type": "markdown",
   "metadata": {},
   "source": [
    "### for loops\n",
    "\n",
    "Loops are used when you need to perform the same lines of code over and over again and when doing function calls just can't suffice. Below is a basic example of a `for` loop using `range()`"
   ]
  },
  {
   "cell_type": "code",
   "execution_count": 66,
   "metadata": {},
   "outputs": [
    {
     "name": "stdout",
     "output_type": "stream",
     "text": [
      "0\n",
      "1\n",
      "2\n",
      "3\n",
      "4\n",
      "5\n",
      "6\n",
      "7\n",
      "8\n",
      "9\n"
     ]
    }
   ],
   "source": [
    "for i in range(0, 10, 1):\n",
    "    print(i)"
   ]
  },
  {
   "cell_type": "markdown",
   "metadata": {},
   "source": [
    "Let's play around with the `range()` to figure out how it works. Whenever you learn a new coding topic. It's essential  you play around with it. \n",
    "\n",
    "Try weird values. Predict the output. And then check if it matches your assumption. Break it. Tweak it. Test it. Grok it.\n",
    "\n",
    "**Don't just read code. Write more code than you read. And read a lot!**"
   ]
  },
  {
   "cell_type": "code",
   "execution_count": 67,
   "metadata": {},
   "outputs": [
    {
     "name": "stdout",
     "output_type": "stream",
     "text": [
      "0\n",
      "3\n",
      "6\n",
      "9\n"
     ]
    }
   ],
   "source": [
    "for i in range(0, 10, 3):\n",
    "    print(i)"
   ]
  },
  {
   "cell_type": "code",
   "execution_count": 68,
   "metadata": {},
   "outputs": [
    {
     "name": "stdout",
     "output_type": "stream",
     "text": [
      "0\n",
      "1\n",
      "2\n",
      "3\n",
      "4\n",
      "5\n",
      "6\n",
      "7\n",
      "8\n",
      "9\n"
     ]
    }
   ],
   "source": [
    "for i in range(0, 10):\n",
    "    print(i)"
   ]
  },
  {
   "cell_type": "markdown",
   "metadata": {},
   "source": [
    "I'm going to leave you to do more experimenting. Feel free to do that with all cells in this notebook. \n",
    "\n",
    "A good rule of thumb is never deleting your code. You can always comment your code out and then delete it at the very end. Often a time you'll delete code that was off by 1 variable and re-write something that just don't even work.\n",
    "\n",
    "Comment your code. **Or** make a new cell in notebook. Get comfortable with navigating the notebook. \n",
    "\n",
    "*TODO show shortcuts*"
   ]
  },
  {
   "cell_type": "code",
   "execution_count": 70,
   "metadata": {},
   "outputs": [
    {
     "name": "stdout",
     "output_type": "stream",
     "text": [
      "['a', 'b', 'c']\n"
     ]
    }
   ],
   "source": [
    "print(list1)"
   ]
  },
  {
   "cell_type": "code",
   "execution_count": 71,
   "metadata": {},
   "outputs": [
    {
     "name": "stdout",
     "output_type": "stream",
     "text": [
      "a\n",
      "b\n",
      "c\n"
     ]
    }
   ],
   "source": [
    "for element in list1:\n",
    "    print(element)"
   ]
  },
  {
   "cell_type": "markdown",
   "metadata": {},
   "source": [
    "### modules"
   ]
  },
  {
   "cell_type": "markdown",
   "metadata": {},
   "source": [
    "Now what if writing functions, loops, if statements and all that jazz gets annoying? If you're working on a project that needs you to have multiple python files that use the same lines of code over and over again. You use modules. You could either make your own modules or install modules that someone else has made to make life easier."
   ]
  },
  {
   "cell_type": "code",
   "execution_count": 73,
   "metadata": {},
   "outputs": [
    {
     "name": "stdout",
     "output_type": "stream",
     "text": [
      "32.0\n",
      "32\n"
     ]
    }
   ],
   "source": [
    "import math\n",
    "\n",
    "a = 2\n",
    "result = math.pow(a, 5)\n",
    "print(result)"
   ]
  },
  {
   "cell_type": "markdown",
   "metadata": {},
   "source": [
    "You could also do."
   ]
  },
  {
   "cell_type": "code",
   "execution_count": null,
   "metadata": {},
   "outputs": [],
   "source": [
    "print(a ** 5)"
   ]
  },
  {
   "cell_type": "markdown",
   "metadata": {},
   "source": [
    "What things get far more complex? What if you have to find the $sine$ of a value?"
   ]
  },
  {
   "cell_type": "code",
   "execution_count": 75,
   "metadata": {},
   "outputs": [
    {
     "data": {
      "text/plain": [
       "-0.9589242746631385"
      ]
     },
     "execution_count": 75,
     "metadata": {},
     "output_type": "execute_result"
    }
   ],
   "source": [
    "a = 5\n",
    "math.sin(a)"
   ]
  },
  {
   "cell_type": "code",
   "execution_count": 76,
   "metadata": {},
   "outputs": [
    {
     "data": {
      "text/plain": [
       "3.141592653589793"
      ]
     },
     "execution_count": 76,
     "metadata": {},
     "output_type": "execute_result"
    }
   ],
   "source": [
    "math.pi"
   ]
  },
  {
   "cell_type": "markdown",
   "metadata": {},
   "source": [
    "Let's try finding the sine of a list of values"
   ]
  },
  {
   "cell_type": "code",
   "execution_count": 78,
   "metadata": {},
   "outputs": [
    {
     "name": "stdout",
     "output_type": "stream",
     "text": [
      "[1, 3.141592653589793, 89, -3]\n"
     ]
    }
   ],
   "source": [
    "list2 = [1, math.pi, 89, -3]\n",
    "\n",
    "for element in list2:\n",
    "    math.sin(element)\n",
    "    \n",
    "print(list2)"
   ]
  },
  {
   "cell_type": "markdown",
   "metadata": {},
   "source": [
    "Now let's try storing it..."
   ]
  },
  {
   "cell_type": "code",
   "execution_count": 79,
   "metadata": {},
   "outputs": [
    {
     "name": "stdout",
     "output_type": "stream",
     "text": [
      "[1, 3.141592653589793, 89, -3]\n"
     ]
    }
   ],
   "source": [
    "list2 = [1, math.pi, 89, -3]\n",
    "\n",
    "for elem in list2:\n",
    "    elem = math.sin(elem)\n",
    "    \n",
    "print(list2)"
   ]
  },
  {
   "cell_type": "markdown",
   "metadata": {},
   "source": [
    "That didn't work. Reason being it just copies the element in `list2` to the variable `elem` and any changes you do to element doesn't do anything because `elem` only has a copy of the current element you're currently looping through in `list2`."
   ]
  },
  {
   "cell_type": "code",
   "execution_count": 81,
   "metadata": {},
   "outputs": [
    {
     "name": "stdout",
     "output_type": "stream",
     "text": [
      "[0.7456241416655579, 1.2246467991473532e-16, 0.7578878440224665, -0.14065207678644337]\n"
     ]
    }
   ],
   "source": [
    "for i, element in enumerate(list2):\n",
    "    list2[i] = math.sin(element)\n",
    "    \n",
    "print(list2)"
   ]
  }
 ],
 "metadata": {
  "kernelspec": {
   "display_name": "Python 3",
   "language": "python",
   "name": "python3"
  },
  "language_info": {
   "codemirror_mode": {
    "name": "ipython",
    "version": 3
   },
   "file_extension": ".py",
   "mimetype": "text/x-python",
   "name": "python",
   "nbconvert_exporter": "python",
   "pygments_lexer": "ipython3",
   "version": "3.7.0"
  }
 },
 "nbformat": 4,
 "nbformat_minor": 2
}
